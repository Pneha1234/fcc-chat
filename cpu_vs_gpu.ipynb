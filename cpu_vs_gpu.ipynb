{
 "cells": [
  {
   "cell_type": "code",
   "execution_count": 2,
   "id": "27528238-af6c-4ede-a7c3-8cb73569e268",
   "metadata": {},
   "outputs": [
    {
     "name": "stdout",
     "output_type": "stream",
     "text": [
      "cpu\n"
     ]
    }
   ],
   "source": [
    "import torch\n",
    "import numpy as np\n",
    "import time\n",
    "device = 'cuda' if torch.cuda.is_available() else 'cpu'\n",
    "print(device)"
   ]
  },
  {
   "cell_type": "code",
   "execution_count": 32,
   "id": "9c74514a-7733-4b83-a150-76979586de75",
   "metadata": {},
   "outputs": [
    {
     "name": "stdout",
     "output_type": "stream",
     "text": [
      "0.00099707\n",
      "CPU times: total: 31.2 ms\n",
      "Wall time: 997 µs\n"
     ]
    }
   ],
   "source": [
    "%%time\n",
    "start_time = time.time()\n",
    "zeros = torch.zeros(1,1)\n",
    "end_time =time.time()\n",
    "\n",
    "elapsed_time = end_time -start_time\n",
    "print(f\"{elapsed_time:.8f}\")"
   ]
  },
  {
   "cell_type": "code",
   "execution_count": 33,
   "id": "1c200696-8dcb-4d7b-9575-0870bc7d01e7",
   "metadata": {},
   "outputs": [
    {
     "name": "stdout",
     "output_type": "stream",
     "text": [
      "0.189712\n",
      "0.203649\n"
     ]
    }
   ],
   "source": [
    "torch_rand1 =  torch.rand(100,100, 100, 100).to(device)\n",
    "torch_rand2 = torch.rand(100, 100, 100, 100).to(device)\n",
    "np_rand1 = torch.rand(100, 100, 100, 100)\n",
    "np_rand2 = torch.rand(100, 100, 100, 100)\n",
    "\n",
    "start_time = time.time()\n",
    "rand = (torch_rand1 @ torch_rand2)\n",
    "\n",
    "end_time = time.time()\n",
    "\n",
    "elapsed_time = end_time - start_time\n",
    "print(f\"{elapsed_time:8f}\")\n",
    "\n",
    "start_time = time.time()\n",
    "rand = np.multiply(np_rand1, np_rand2)\n",
    "end_time = time.time()\n",
    "elapsed_time = end_time - start_time\n",
    "print(f\"{elapsed_time:8f}\")\n"
   ]
  },
  {
   "cell_type": "code",
   "execution_count": 16,
   "id": "93b835c4-d255-41aa-86d9-df16ae6f80ae",
   "metadata": {},
   "outputs": [
    {
     "name": "stdout",
     "output_type": "stream",
     "text": [
      "tensor([0, 0, 0, 1, 1, 0, 1, 0, 1, 0])\n"
     ]
    }
   ],
   "source": [
    "probabilities = torch.tensor([0.5, 0.5])\n",
    "samples =  torch.multinomial(probabilities, num_samples = 10, replacement = True)\n",
    "print(samples)"
   ]
  },
  {
   "cell_type": "code",
   "execution_count": 17,
   "id": "aa453fe4-e64b-4174-b32c-6798c8a854f7",
   "metadata": {},
   "outputs": [
    {
     "data": {
      "text/plain": [
       "tensor([1, 2, 3, 4, 5])"
      ]
     },
     "execution_count": 17,
     "metadata": {},
     "output_type": "execute_result"
    }
   ],
   "source": [
    "tensor = torch.tensor([1,2,3,4])\n",
    "out = torch.cat((tensor, torch.tensor([5])), dim = 0)\n",
    "out"
   ]
  },
  {
   "cell_type": "code",
   "execution_count": 18,
   "id": "152520ea-5508-4ca5-ae2a-e662c0645e2b",
   "metadata": {},
   "outputs": [
    {
     "data": {
      "text/plain": [
       "tensor([[1., 0., 0., 0., 0.],\n",
       "        [1., 1., 0., 0., 0.],\n",
       "        [1., 1., 1., 0., 0.],\n",
       "        [1., 1., 1., 1., 0.],\n",
       "        [1., 1., 1., 1., 1.]])"
      ]
     },
     "execution_count": 18,
     "metadata": {},
     "output_type": "execute_result"
    }
   ],
   "source": [
    "out = torch.tril(torch.ones(5,5))\n",
    "out"
   ]
  },
  {
   "cell_type": "code",
   "execution_count": 19,
   "id": "d81f35d7-8af7-45ab-bce6-bc8d8b5c1150",
   "metadata": {},
   "outputs": [
    {
     "data": {
      "text/plain": [
       "tensor([[1., 1., 1., 1., 1.],\n",
       "        [0., 1., 1., 1., 1.],\n",
       "        [0., 0., 1., 1., 1.],\n",
       "        [0., 0., 0., 1., 1.],\n",
       "        [0., 0., 0., 0., 1.]])"
      ]
     },
     "execution_count": 19,
     "metadata": {},
     "output_type": "execute_result"
    }
   ],
   "source": [
    "out = torch.triu(torch.ones(5,5))\n",
    "out"
   ]
  },
  {
   "cell_type": "code",
   "execution_count": 20,
   "id": "d3178528-7132-41ee-b357-bb03ce8e0158",
   "metadata": {},
   "outputs": [
    {
     "data": {
      "text/plain": [
       "tensor([[0., -inf, -inf, -inf, -inf],\n",
       "        [0., 0., -inf, -inf, -inf],\n",
       "        [0., 0., 0., -inf, -inf],\n",
       "        [0., 0., 0., 0., -inf],\n",
       "        [0., 0., 0., 0., 0.]])"
      ]
     },
     "execution_count": 20,
     "metadata": {},
     "output_type": "execute_result"
    }
   ],
   "source": [
    "out = torch.zeros(5,5).masked_fill(torch.tril(torch.ones(5,5))== 0,float('-inf'))\n",
    "out"
   ]
  },
  {
   "cell_type": "code",
   "execution_count": 21,
   "id": "51f7240d-2a8d-40d5-b9d2-f2c58fe95071",
   "metadata": {},
   "outputs": [
    {
     "data": {
      "text/plain": [
       "tensor([[1., 0., 0., 0., 0.],\n",
       "        [1., 1., 0., 0., 0.],\n",
       "        [1., 1., 1., 0., 0.],\n",
       "        [1., 1., 1., 1., 0.],\n",
       "        [1., 1., 1., 1., 1.]])"
      ]
     },
     "execution_count": 21,
     "metadata": {},
     "output_type": "execute_result"
    }
   ],
   "source": [
    "torch.exp(out)"
   ]
  },
  {
   "cell_type": "code",
   "execution_count": 22,
   "id": "3bb4e4fd-3c15-4ef7-9e81-d1f76c32168d",
   "metadata": {},
   "outputs": [
    {
     "data": {
      "text/plain": [
       "torch.Size([4, 3, 2])"
      ]
     },
     "execution_count": 22,
     "metadata": {},
     "output_type": "execute_result"
    }
   ],
   "source": [
    "input = torch.zeros(2,3,4)\n",
    "out =  input.transpose(0,2)\n",
    "out.shape"
   ]
  },
  {
   "cell_type": "code",
   "execution_count": 23,
   "id": "d186fb1e-0b34-4912-8d83-63c7c366078e",
   "metadata": {},
   "outputs": [
    {
     "data": {
      "text/plain": [
       "tensor([[1, 2, 3],\n",
       "        [4, 5, 6],\n",
       "        [7, 8, 9]])"
      ]
     },
     "execution_count": 23,
     "metadata": {},
     "output_type": "execute_result"
    }
   ],
   "source": [
    "tensor1 = torch.tensor([1,2,3])\n",
    "tensor2 =  torch.tensor([4,5,6])\n",
    "tensor3 = torch.tensor([7,8,9])\n",
    "stacked_tensor = torch.stack([tensor1, tensor2, tensor3])\n",
    "stacked_tensor"
   ]
  },
  {
   "cell_type": "code",
   "execution_count": 4,
   "id": "ee2b7bc5-6c21-49d7-922e-9c2b04c46e05",
   "metadata": {},
   "outputs": [
    {
     "name": "stdout",
     "output_type": "stream",
     "text": [
      "tensor([-2.5286, -3.0113, -7.3609], grad_fn=<SqueezeBackward4>)\n"
     ]
    }
   ],
   "source": [
    "import torch.nn as nn\n",
    "sample = torch.tensor([10.,10.,10.])\n",
    "linear = nn.Linear(3,3, bias=False)\n",
    "print(linear(sample))"
   ]
  },
  {
   "cell_type": "code",
   "execution_count": 28,
   "id": "db23901a-a77f-47cf-bb68-e441a5212421",
   "metadata": {},
   "outputs": [
    {
     "name": "stdout",
     "output_type": "stream",
     "text": [
      "tensor([0.0900, 0.2447, 0.6652])\n"
     ]
    }
   ],
   "source": [
    "import torch.nn.functional as F\n",
    "\n",
    "tensor1 = torch.tensor([1.0, 2.0, 3.0])\n",
    "softmax_output =  F.softmax(tensor1, dim=0)\n",
    "print(softmax_output)"
   ]
  },
  {
   "cell_type": "code",
   "execution_count": 5,
   "id": "e7d16444-5091-49dc-af62-30d48ade3e51",
   "metadata": {},
   "outputs": [
    {
     "name": "stdout",
     "output_type": "stream",
     "text": [
      "torch.Size([4, 100])\n",
      "tensor([[ 9.0854e-01,  1.5970e+00, -7.5493e-01, -3.8224e-01,  5.6940e-01,\n",
      "          6.2343e-01, -3.1764e-01, -5.5774e-01, -1.0334e+00, -1.3519e-01,\n",
      "          1.1269e+00, -1.1322e+00, -1.3812e+00, -4.9296e-01,  7.4850e-01,\n",
      "          1.5189e+00, -2.5536e+00, -1.9269e+00,  2.8329e+00,  1.6680e-01,\n",
      "          9.1528e-02,  6.4416e-01,  9.2887e-01,  6.3429e-01,  4.0757e-01,\n",
      "          3.4026e-01,  1.2940e+00, -8.7769e-01,  1.7936e+00,  6.3468e-01,\n",
      "         -3.6808e-01, -3.0655e-01, -1.5733e-01, -2.2280e+00,  4.3631e-02,\n",
      "          1.0578e+00,  5.4438e-02, -2.2898e-01, -1.5659e-04, -8.8613e-01,\n",
      "         -2.3975e-01,  1.0654e-01,  9.5561e-01,  1.5566e+00, -2.0395e-01,\n",
      "          1.5430e+00,  4.6962e-01, -9.4870e-01, -6.9774e-01,  1.0003e+00,\n",
      "         -1.7601e+00,  4.8459e-01, -7.4527e-02,  1.3909e+00, -7.2079e-01,\n",
      "         -8.4460e-01, -1.6365e-02,  3.4888e-01,  9.3388e-01,  3.4376e-01,\n",
      "         -3.3924e-01, -1.9186e+00,  5.3446e-01, -5.8778e-01, -1.0955e+00,\n",
      "          5.4409e-01,  3.2297e-01, -2.0430e+00, -1.7794e+00, -2.1570e-01,\n",
      "         -3.3605e-01, -1.5908e+00,  2.5270e-01, -5.5402e-01,  6.6612e-01,\n",
      "         -6.1582e-01, -1.6195e+00, -3.6782e-01,  3.5798e-01,  6.7376e-01,\n",
      "          1.0719e+00,  5.2536e-01, -3.3333e-01,  7.3307e-01,  8.4006e-01,\n",
      "         -1.6299e+00,  6.7466e-01, -8.3863e-01, -4.0834e-01,  7.6687e-02,\n",
      "          5.6628e-01,  7.7823e-01,  3.7030e-01, -2.1507e-02, -3.2108e-02,\n",
      "          3.0217e-01, -1.7496e-01, -2.1325e+00, -1.8627e+00,  9.3644e-02],\n",
      "        [ 9.2256e-01, -2.5435e-01, -5.0525e-01, -6.1489e-01, -5.9427e-01,\n",
      "         -6.2361e-01, -1.1690e+00, -1.3273e+00, -1.0342e+00, -2.6007e-01,\n",
      "         -2.4997e-01,  7.8287e-01, -7.0183e-01, -4.6526e-01, -1.2067e+00,\n",
      "         -8.5133e-02, -2.7699e+00, -1.6285e-01, -1.0289e+00, -4.5961e-01,\n",
      "          1.2649e-01,  6.4673e-01, -4.3403e-01, -1.6780e-01, -3.2905e-01,\n",
      "          4.4017e-01,  4.3108e-02, -5.8463e-01,  1.7074e+00,  1.6906e-01,\n",
      "          6.3153e-01,  5.3716e-01,  8.4889e-01, -1.0148e+00,  4.2344e-02,\n",
      "         -7.7943e-02, -1.4221e+00,  7.6448e-01,  7.0364e-01,  3.6391e-01,\n",
      "         -8.9264e-01,  1.2626e+00,  1.5928e-01,  1.0836e+00, -5.1594e-01,\n",
      "          7.4317e-02, -8.8478e-01,  7.9915e-01, -1.0871e+00,  3.6127e-01,\n",
      "          8.3547e-01, -1.6571e+00,  4.7374e-01, -2.0749e-01,  1.0938e-01,\n",
      "          3.5444e-01, -1.5998e+00,  6.1307e-01, -6.0895e-01,  2.9165e-01,\n",
      "         -6.8022e-01, -7.7991e-01, -1.3362e+00, -4.8368e-01,  8.5190e-02,\n",
      "         -3.1827e-02, -2.8334e+00, -1.2103e+00, -9.6605e-01, -6.4117e-01,\n",
      "          3.9378e-01, -2.6266e-01, -8.7999e-02, -9.3681e-01,  3.1918e-01,\n",
      "          2.7282e-01, -3.3322e-01, -1.1158e+00, -8.0320e-01, -1.6855e+00,\n",
      "          1.7922e+00,  1.7152e-02, -5.7861e-01,  2.3687e+00, -9.7321e-01,\n",
      "          1.6827e+00,  1.0786e+00, -2.7868e-01,  1.1617e+00,  5.3093e-01,\n",
      "          3.9695e-01, -8.9498e-01,  6.7142e-01,  4.5993e-02, -1.0314e+00,\n",
      "          3.2887e-01, -9.1055e-02,  5.0626e-01, -2.2669e-01, -3.7177e-02],\n",
      "        [ 1.0722e+00, -8.8856e-01,  8.4613e-01, -8.4611e-01,  7.7322e-01,\n",
      "          1.6535e-01,  3.0908e-03, -1.7098e+00,  7.5828e-01, -1.7344e+00,\n",
      "          6.6028e-01, -2.5798e+00, -3.3292e-01, -5.3301e-02, -1.5875e+00,\n",
      "          5.4147e-01,  1.3939e-01, -5.2322e-02, -3.2094e-01,  2.2816e+00,\n",
      "          6.1945e-01,  7.0374e-01,  1.8423e+00,  7.6249e-01, -1.2968e+00,\n",
      "         -5.9499e-01, -1.1422e+00, -6.7975e-01, -6.9694e-01, -2.4775e-01,\n",
      "          6.1804e-02,  4.0966e-01, -1.8718e+00, -5.0079e-01,  1.0528e+00,\n",
      "          5.4867e-01, -1.4061e+00, -1.3367e+00, -1.6378e-01,  4.0009e-01,\n",
      "          8.8334e-05,  5.4177e-01, -1.1872e-01,  3.0265e-01,  1.3543e+00,\n",
      "         -4.2216e-02, -8.5316e-01, -1.3064e+00,  2.0911e-01,  4.2538e-01,\n",
      "          2.3461e-01,  1.9900e+00,  2.0531e+00, -1.1292e+00, -3.4787e-02,\n",
      "         -1.8141e+00, -9.5247e-01,  1.8146e-01, -2.8392e-01, -2.9234e-01,\n",
      "         -5.6186e-01, -1.1107e+00, -1.7209e-02, -1.5700e+00, -8.1248e-02,\n",
      "         -3.8523e-01,  1.1746e+00,  1.5026e+00, -3.8659e-01, -1.4218e+00,\n",
      "          3.8749e-01,  2.4313e+00, -4.5655e-01,  3.4953e-01,  1.9359e-01,\n",
      "         -6.2546e-01, -1.5869e+00, -1.6064e+00, -8.4159e-01,  3.5757e-01,\n",
      "          1.5276e+00,  2.5755e-01, -5.7095e-01,  6.4989e-02, -3.4627e-01,\n",
      "         -1.4923e-01,  7.2932e-01, -1.0608e+00, -6.3723e-01,  5.1347e-02,\n",
      "          7.0919e-01, -5.8556e-01,  2.8596e-01, -7.3100e-01,  3.1421e-01,\n",
      "          1.3025e-02, -1.6524e-01, -1.8043e-02,  3.9377e-01, -1.3306e+00],\n",
      "        [-3.3400e-01, -1.1938e+00, -3.2031e-01,  9.2891e-01, -1.1359e+00,\n",
      "          5.3684e-01,  2.0523e+00, -5.6182e-01,  2.0137e-01, -1.5919e+00,\n",
      "         -1.8650e-01, -4.5226e-01, -1.8328e+00,  3.4507e-01, -1.2609e+00,\n",
      "         -9.2895e-02,  4.0612e-01,  1.7772e+00,  1.3025e+00, -8.5880e-01,\n",
      "         -1.3290e+00,  2.7753e-01, -1.0336e+00,  5.2504e-01, -7.4204e-01,\n",
      "          3.4606e-01,  2.6265e-01,  1.9503e-01,  6.4144e-01, -1.5924e+00,\n",
      "          6.4000e-01,  4.2269e-01,  7.5519e-01, -5.1731e-01,  8.0003e-02,\n",
      "          3.9479e-01, -1.5530e+00,  1.3978e-01,  3.6354e-01,  6.3552e-01,\n",
      "         -4.8982e-01,  1.2689e+00,  2.4981e+00,  7.4055e-01, -5.4330e-01,\n",
      "          1.6562e+00,  1.3044e+00,  1.1044e+00, -1.3963e-01, -8.1728e-01,\n",
      "          3.3208e-01,  1.4597e-01, -1.4848e+00, -1.1114e+00, -1.0194e+00,\n",
      "         -7.8494e-02,  1.2190e+00, -8.4041e-01, -7.1981e-01, -2.1038e-01,\n",
      "         -9.8478e-01, -2.7120e-01, -1.2858e-01, -6.3247e-01,  2.1012e+00,\n",
      "          1.1301e+00, -5.9147e-01, -7.0067e-01, -1.3140e+00,  1.1142e+00,\n",
      "          3.8860e-01,  5.7288e-01,  1.0653e-01,  5.6643e-01, -2.1167e-01,\n",
      "         -1.2698e+00, -2.8248e-02, -5.2624e-01, -5.7389e-01,  6.5516e-02,\n",
      "          4.4018e-01,  5.6065e-01, -7.4032e-01,  1.0340e+00, -4.0136e-01,\n",
      "          1.9671e-01, -4.7908e-01,  3.8576e-01, -1.4801e+00,  5.6258e-01,\n",
      "         -1.8808e+00,  4.5441e-01, -2.1131e-01, -5.5884e-01, -1.4949e-02,\n",
      "         -1.1144e+00, -1.0101e-01,  9.8727e-01, -1.2971e+00, -9.3039e-01]],\n",
      "       grad_fn=<EmbeddingBackward0>)\n"
     ]
    }
   ],
   "source": [
    "vocab_size = 1000\n",
    "embedding_dim = 100\n",
    "embedding = nn.Embedding(vocab_size, embedding_dim)\n",
    "\n",
    "input_indices = torch.LongTensor([1,5,3,2])\n",
    "embedded_output = embedding(input_indices)\n",
    "print(embedded_output.shape)\n",
    "print(embedded_output)"
   ]
  },
  {
   "cell_type": "code",
   "execution_count": 8,
   "id": "74548706-7d86-44ba-9690-809738d4af2c",
   "metadata": {},
   "outputs": [
    {
     "name": "stdout",
     "output_type": "stream",
     "text": [
      "tensor([[ 27,  30,  33],\n",
      "        [ 61,  68,  75],\n",
      "        [ 95, 106, 117]])\n",
      "tensor([[ 27,  30,  33],\n",
      "        [ 61,  68,  75],\n",
      "        [ 95, 106, 117]])\n"
     ]
    }
   ],
   "source": [
    "a = torch.tensor([[1,2], [3,4], [5,6]])\n",
    "b = torch.tensor([[7,8,9], [10,11,12]])\n",
    "print(a @ b)\n",
    "print(torch.matmul(a,b))"
   ]
  },
  {
   "cell_type": "code",
   "execution_count": 10,
   "id": "e4f3e9f8-e783-48a5-a986-f08da0a7a3cd",
   "metadata": {},
   "outputs": [
    {
     "name": "stdout",
     "output_type": "stream",
     "text": [
      "tensor([[0., 0., 0.],\n",
      "        [0., 0., 0.],\n",
      "        [0., 0., 0.]])\n"
     ]
    }
   ],
   "source": [
    "int_64 = torch.randint(1, (3,2)).float()\n",
    "float_32 = torch.rand(2,3)\n",
    "\n",
    "result = torch.matmul(int_64, float_32)\n",
    "print(result)"
   ]
  },
  {
   "cell_type": "code",
   "execution_count": null,
   "id": "54c48781-8b64-4504-9633-688dcdb000a8",
   "metadata": {},
   "outputs": [],
   "source": []
  }
 ],
 "metadata": {
  "kernelspec": {
   "display_name": "cuda-gpt",
   "language": "python",
   "name": "venv"
  },
  "language_info": {
   "codemirror_mode": {
    "name": "ipython",
    "version": 3
   },
   "file_extension": ".py",
   "mimetype": "text/x-python",
   "name": "python",
   "nbconvert_exporter": "python",
   "pygments_lexer": "ipython3",
   "version": "3.11.1"
  }
 },
 "nbformat": 4,
 "nbformat_minor": 5
}
