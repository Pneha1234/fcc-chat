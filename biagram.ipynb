{
 "cells": [
  {
   "cell_type": "code",
   "execution_count": 10,
   "metadata": {},
   "outputs": [
    {
     "name": "stdout",
     "output_type": "stream",
     "text": [
      "cpu\n"
     ]
    }
   ],
   "source": [
    "import torch\n",
    "import torch.nn as nn\n",
    "from torch.nn import functional as F\n",
    "device = 'cuda' if torch.cuda.is_available() else 'cpu'\n",
    "print(device)\n",
    "block_size = 8\n",
    "batch_size = 4"
   ]
  },
  {
   "cell_type": "code",
   "execution_count": 11,
   "metadata": {},
   "outputs": [
    {
     "name": "stdout",
     "output_type": "stream",
     "text": [
      "['\\n', ' ', '!', '\"', '$', '%', '&', \"'\", '(', ')', '*', ',', '-', '.', '/', '0', '1', '2', '3', '4', '5', '6', '7', '8', '9', ':', ';', '?', 'A', 'B', 'C', 'D', 'E', 'F', 'G', 'H', 'I', 'J', 'K', 'L', 'M', 'N', 'O', 'P', 'Q', 'R', 'S', 'T', 'U', 'V', 'W', 'X', 'Y', 'Z', 'a', 'b', 'c', 'd', 'e', 'f', 'g', 'h', 'i', 'j', 'k', 'l', 'm', 'n', 'o', 'p', 'q', 'r', 's', 't', 'u', 'v', 'w', 'x', 'y', 'z', '—', '‘', '’', '“', '”', '•', '™', '\\ufeff']\n"
     ]
    }
   ],
   "source": [
    "with open('wizard_of_oz.txt', 'r', encoding='utf-8') as f:\n",
    "    text =  f.read()\n",
    "chars = sorted(set(text))\n",
    "print(chars)\n",
    "vocab_size = len(chars)"
   ]
  },
  {
   "cell_type": "code",
   "execution_count": 5,
   "metadata": {},
   "outputs": [
    {
     "name": "stdout",
     "output_type": "stream",
     "text": [
      "tensor([87, 31, 68, 71, 68, 73, 61, 78,  1, 54, 67, 57,  1, 73, 61, 58,  1, 50,\n",
      "        62, 79, 54, 71, 57,  1, 62, 67,  1, 42, 79,  0,  0,  0,  1,  1, 28,  1,\n",
      "        33, 54, 62, 73, 61, 59, 74, 65,  1, 45, 58, 56, 68, 71, 57,  1, 68, 59,\n",
      "         1, 47, 61, 58, 62, 71,  1, 28, 66, 54, 79, 62, 67, 60,  1, 28, 57, 75,\n",
      "        58, 67, 73, 74, 71, 58, 72,  0,  1,  1,  1,  1, 62, 67,  1, 54, 67,  1,\n",
      "        48, 67, 57, 58, 71, 60, 71, 68, 74, 67])\n"
     ]
    }
   ],
   "source": [
    "string_to_int = { ch:i for i,ch in enumerate(chars) }\n",
    "int_to_string = { i:ch for i,ch in enumerate(chars)}\n",
    "encode =  lambda s: [string_to_int[c] for c in s]\n",
    "decode = lambda l: ''.join([int_to_string[i] for i in l])\n",
    "\n",
    "data = torch.tensor(encode(text), dtype =torch.long)\n",
    "print(data[:100])"
   ]
  },
  {
   "cell_type": "code",
   "execution_count": 9,
   "metadata": {},
   "outputs": [
    {
     "name": "stdout",
     "output_type": "stream",
     "text": [
      "tensor([188310, 134383, 191161,  67329])\n",
      "inputs:\n",
      "tensor([[58, 57,  1, 55, 78,  1, 66, 78],\n",
      "        [68, 66, 58, 73, 62, 66, 58, 72],\n",
      "        [58,  0, 72, 73, 71, 62, 69, 58],\n",
      "        [56, 54, 67,  1, 76, 58,  1, 60]])\n",
      "targets:\n",
      "tensor([[57,  1, 55, 78,  1, 66, 78,  1],\n",
      "        [66, 58, 73, 62, 66, 58, 72,  1],\n",
      "        [ 0, 72, 73, 71, 62, 69, 58, 72],\n",
      "        [54, 67,  1, 76, 58,  1, 60, 68]])\n"
     ]
    }
   ],
   "source": [
    "n= int(0.8*len(data))\n",
    "train_data = data[:n]\n",
    "val_data = data[n:]\n",
    "\n",
    "def get_batch(split):\n",
    "    data = train_data if split == 'train' else val_data\n",
    "    ix = torch.randint(len(data) - block_size, (batch_size,)) \n",
    "    print(ix)\n",
    "    x = torch.stack([data[i:i+block_size] for i in ix])\n",
    "    y = torch.stack([data[i+1:i+block_size+1] for i in ix])\n",
    "    x,y = x.to(device), y.to(device)\n",
    "    return x,y\n",
    "\n",
    "x, y = get_batch('train')\n",
    "print('inputs:')\n",
    "print(x)\n",
    "print('targets:')\n",
    "print(y)"
   ]
  },
  {
   "cell_type": "code",
   "execution_count": 14,
   "metadata": {},
   "outputs": [
    {
     "name": "stdout",
     "output_type": "stream",
     "text": [
      "when input is tensor([87]) target is tensor(31)\n",
      "when input is tensor([87, 31]) target is tensor(68)\n",
      "when input is tensor([87, 31, 68]) target is tensor(71)\n",
      "when input is tensor([87, 31, 68, 71]) target is tensor(68)\n",
      "when input is tensor([87, 31, 68, 71, 68]) target is tensor(73)\n",
      "when input is tensor([87, 31, 68, 71, 68, 73]) target is tensor(61)\n",
      "when input is tensor([87, 31, 68, 71, 68, 73, 61]) target is tensor(78)\n",
      "when input is tensor([87, 31, 68, 71, 68, 73, 61, 78]) target is tensor(1)\n"
     ]
    }
   ],
   "source": [
    "\n",
    "\n",
    "x = train_data[:block_size]\n",
    "y = train_data[1:block_size+1]\n",
    "\n",
    "for t in range(block_size):\n",
    "    context = x[:t+1]\n",
    "    target =y[t]\n",
    "    print('when input is', context, 'target is', target)"
   ]
  },
  {
   "cell_type": "code",
   "execution_count": null,
   "metadata": {},
   "outputs": [],
   "source": [
    "class BiagramLangugaeModel(nn.Module):\n",
    "    def __init__(self, vocab_size):\n",
    "        super().__init__()\n",
    "        self.token_embedding_table = nn.Embedding(vocab_size, vocab_size)\n",
    "\n",
    "    \n",
    "    def forward(self, index, targets=None):\n",
    "        logits = self.token_embedding_table(index)\n",
    "\n",
    "        if targets is None:\n",
    "            loss = None\n",
    "        else:\n",
    "            B,T, C = logits.shape\n",
    "            logits = logits.view(B*T, C)\n",
    "            targets =targets.view(B*T)\n",
    "            loss =  F.cross_entropy(logits, targets)\n",
    "        \n",
    "        return  logits, loss\n",
    "\n",
    "    def generate(self, index, max_new_tokens):\n",
    "        # index is (B,T) array of indicies in the current context\n",
    "        for _ in range(max_new_tokens):\n",
    "            #get the predicitions\n",
    "            logits, loss = self.forward(index)\n",
    "            # focus only on the last time step\n",
    "            logits = logits [:, -1, :] # becomes (B, C)\n",
    "            # apply softmax to get probabilitie\n",
    "            probs = F.softmax(logits, dim=-1) #(B, C)\n",
    "            # sample from the distribution\n",
    "            index_next = torch.multinomial(probs, num_samples=1)#(B,1)\n",
    "            # append sampled index to the running sequence\n",
    "            index = torch.cat((index, index_next), dim =1) # (AB, T+1)\n",
    "        return index\n",
    "\n",
    "model = BiagramLangugaeModel(vocab_size)\n",
    "m = model.to(device)\n",
    "\n",
    "context = torch.zeros((1,1), dtype = torch.long, device =device)\n",
    "generated_chars = decode(m.generate(context, max_new_tokens=500)[0].tolist())\n",
    "print(generated_chars)\n",
    "\n",
    "        \n",
    "    "
   ]
  },
  {
   "cell_type": "code",
   "execution_count": null,
   "metadata": {},
   "outputs": [],
   "source": [
    " a = torch.rand(2,3,5)\n",
    "print(a.shape)\n",
    "x,y,z = a.shape\n",
    "a = a.view(x,y,z)\n",
    "print(x,y,z)\n",
    "print(a.shape)"
   ]
  },
  {
   "cell_type": "code",
   "execution_count": null,
   "metadata": {},
   "outputs": [],
   "source": []
  }
 ],
 "metadata": {
  "kernelspec": {
   "display_name": "cuda-gpt",
   "language": "python",
   "name": "venv"
  },
  "language_info": {
   "codemirror_mode": {
    "name": "ipython",
    "version": 3
   },
   "file_extension": ".py",
   "mimetype": "text/x-python",
   "name": "python",
   "nbconvert_exporter": "python",
   "pygments_lexer": "ipython3",
   "version": "3.11.1"
  }
 },
 "nbformat": 4,
 "nbformat_minor": 4
}
